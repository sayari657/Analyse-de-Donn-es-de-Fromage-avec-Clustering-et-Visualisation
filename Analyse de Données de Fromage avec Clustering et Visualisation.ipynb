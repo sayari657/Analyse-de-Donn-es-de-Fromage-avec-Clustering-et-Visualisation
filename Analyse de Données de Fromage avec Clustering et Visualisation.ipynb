{
 "cells": [
  {
   "cell_type": "code",
   "execution_count": null,
   "id": "4f548398",
   "metadata": {},
   "outputs": [],
   "source": [
    "import numpy as np\n",
    "import pandas as pd\n",
    "import matplotlib.pyplot as plt\n",
    "from scipy.cluster.hierarchy import dendrogram, linkage\n",
    "from sklearn.cluster import KMeans\n",
    "from sklearn.preprocessing import StandardScaler\n"
   ]
  },
  {
   "cell_type": "code",
   "execution_count": null,
   "id": "84e9555b",
   "metadata": {},
   "outputs": [],
   "source": [
    "url = r\"C:\\Users\\MSI\\Desktop\\DS\\ayedi\\fromage.xlsx\"\n",
    "data = pd.read_excel(url)\n",
    "data\n"
   ]
  },
  {
   "cell_type": "code",
   "execution_count": null,
   "id": "64e875d0",
   "metadata": {},
   "outputs": [],
   "source": [
    "print(data.head()) "
   ]
  },
  {
   "cell_type": "code",
   "execution_count": null,
   "id": "3a0c9c42",
   "metadata": {},
   "outputs": [],
   "source": [
    "print(data.describe()) "
   ]
  },
  {
   "cell_type": "code",
   "execution_count": null,
   "id": "bb162c5c",
   "metadata": {},
   "outputs": [],
   "source": [
    "data.isnull().sum()\n",
    "print(data)"
   ]
  },
  {
   "cell_type": "code",
   "execution_count": null,
   "id": "793c1644",
   "metadata": {},
   "outputs": [],
   "source": [
    "import seaborn as sns, matplotlib.pyplot as plt\n",
    "\n",
    "numeric_data = data.select_dtypes(include=['int64', 'float64'])\n",
    "\n",
    "corr_matrix = numeric_data.corr() \n",
    "\n",
    "plt.figure(figsize=(10, 8))\n",
    "sns.heatmap(corr_matrix, annot=True, cmap='coolwarm', fmt=\".2f\", linewidths=0.5)\n",
    "plt.title('Heatmap de la matrice de corrélation')\n",
    "plt.show()\n"
   ]
  },
  {
   "cell_type": "code",
   "execution_count": null,
   "id": "cd60fe79",
   "metadata": {},
   "outputs": [],
   "source": [
    "# Sélection des caractéristiques pour la classification\n",
    "# Il s'agit de sélectionner les colonnes à utiliser comme caractéristiques dans le processus de classification.\n",
    "# Dans ce cas, toutes les colonnes sauf la première sont sélectionnées, la première colonne étant probablement le nom du fromage.\n",
    "features = data.iloc[:, 1:]\n",
    "\n",
    "# Standardisation des données\n",
    "# La standardisation des données est une étape importante dans de nombreux algorithmes d'apprentissage automatique,\n",
    "# car elle garantit que les caractéristiques ont la même échelle, ce qui peut améliorer les performances du modèle.\n",
    "scaler = StandardScaler()\n",
    "# La méthode fit_transform calcule la moyenne et l'écart-type de chaque colonne (caractéristique) et effectue une transformation\n",
    "# pour mettre à l'échelle les données afin qu'elles aient une moyenne de 0 et un écart-type de 1.\n",
    "features_scaled = scaler.fit_transform(features)\n"
   ]
  },
  {
   "cell_type": "code",
   "execution_count": null,
   "id": "b4660cbe",
   "metadata": {},
   "outputs": [],
   "source": [
    "# Classification ascendante hiérarchique (CAH)\n",
    "linkage_matrix = linkage(features_scaled, method='ward', metric='euclidean')\n",
    "\n",
    "# Affichage du dendrogramme\n",
    "plt.figure(figsize=(10, 6))\n",
    "dendrogram(linkage_matrix)\n",
    "plt.title('Dendrogramme CAH')\n",
    "plt.xlabel('Fromages')\n",
    "plt.ylabel('Distance')\n",
    "plt.show()\n"
   ]
  },
  {
   "cell_type": "code",
   "execution_count": null,
   "id": "1330de2d",
   "metadata": {},
   "outputs": [],
   "source": [
    "from sklearn.decomposition import PCA\n",
    "# Importer la classe PCA (Analyse en Composantes Principales) depuis scikit-learn\n",
    "\n",
    "# Appliquer PCA (Analyse en Composantes Principales)\n",
    "pca = PCA(n_components=2)  # Définir le nombre de composantes principales à 2\n",
    "features_pca = pca.fit_transform(features_scaled)\n",
    "# La méthode fit_transform calcule les composantes principales à partir des données standardisées.\n",
    "\n",
    "# Classification avec K-means\n",
    "kmeans = KMeans(n_clusters=4, random_state=42)  # Choisir le nombre de clusters\n",
    "kmeans.fit(features_scaled)\n",
    "cluster_labels = kmeans.labels_\n",
    "# Utilisation de l'algorithme K-means pour regrouper les données standardisées en 4 clusters.\n",
    "# Les étiquettes des clusters sont stockées dans cluster_labels.\n",
    "\n",
    "# Affichage du nuage de points avec PCA et coloration par classe\n",
    "plt.figure(figsize=(10, 6))\n",
    "for i in range(len(set(cluster_labels))):  # Parcourir chaque classe unique\n",
    "    plt.scatter(features_pca[cluster_labels == i, 0],  # Sélectionner les données appartenant à la classe i\n",
    "                features_pca[cluster_labels == i, 1],\n",
    "                label=f'Cluster {i + 1}',  # Étiquette de la légende\n",
    "                alpha=0.7)  # Opacité des points\n",
    "plt.title('Nuage de points avec PCA (K-means clustering)')\n",
    "plt.xlabel('Composante principale 1')\n",
    "plt.ylabel('Composante principale 2')\n",
    "plt.legend()\n",
    "plt.show()\n",
    "# Tracer un nuage de points en utilisant les deux premières composantes principales (axes) obtenues par PCA.\n",
    "# Chaque point est coloré en fonction de son cluster assigné par l'algorithme K-means.\n",
    "# Les légendes indiquent les clusters correspondants.\n"
   ]
  },
  {
   "cell_type": "code",
   "execution_count": null,
   "id": "44e244fc",
   "metadata": {},
   "outputs": [],
   "source": [
    "from sklearn.decomposition import PCA\n",
    "# Importer la classe PCA (Analyse en Composantes Principales) depuis scikit-learn\n",
    "\n",
    "# Méthode du coude pour trouver le nombre optimal de clusters\n",
    "inertia = []\n",
    "for k in range(1, 10):\n",
    "    kmeans = KMeans(n_clusters=k, random_state=42)\n",
    "    kmeans.fit(features_scaled)\n",
    "    inertia.append(kmeans.inertia_)\n",
    "# La méthode du coude est une technique pour déterminer le nombre optimal de clusters dans un algorithme de clustering.\n",
    "# Elle consiste à calculer l'inertie (somme des carrés des distances des échantillons au centre de leur cluster le plus proche)\n",
    "# pour différentes valeurs de k (nombre de clusters). Ici, nous itérons sur différentes valeurs de k de 1 à 9.\n",
    "\n",
    "# Tracer le graphique de la méthode du coude\n",
    "plt.figure(figsize=(10, 6))\n",
    "plt.plot(range(1, 10), inertia, marker='o', linestyle='-')\n",
    "plt.title('Méthode du coude')\n",
    "plt.xlabel('Nombre de clusters')\n",
    "plt.ylabel('Inertie')\n",
    "plt.xticks(range(1, 10))\n",
    "plt.grid(True)\n",
    "plt.show()\n",
    "# Tracer un graphique montrant le changement de l'inertie en fonction du nombre de clusters.\n",
    "# Le coude dans le graphique représente le nombre optimal de clusters, où l'inertie commence à diminuer de manière marginale.\n",
    "\n",
    "# Choisir le nombre optimal de clusters à partir du graphique de la méthode du coude\n",
    "optimal_k = int(input(\"Entrez le nombre optimal de clusters à partir du graphique de la méthode du coude : \"))\n",
    "\n",
    "# Classification avec K-means en utilisant le nombre optimal de clusters\n",
    "kmeans = KMeans(n_clusters=optimal_k, random_state=42)\n",
    "kmeans.fit(features_scaled)\n",
    "data['cluster_kmeans'] = kmeans.labels_\n",
    "# Utiliser l'algorithme K-means avec le nombre optimal de clusters pour regrouper les données.\n",
    "# Les étiquettes des clusters sont ajoutées à la colonne 'cluster_kmeans' du DataFrame.\n",
    "\n",
    "# Affichage des centres des clusters\n",
    "print(\"Centres des clusters (K-means):\")\n",
    "print(pd.DataFrame(scaler.inverse_transform(kmeans.cluster_centers_), columns=features.columns))\n",
    "# Afficher les centres de chaque cluster en inversant la standardisation des centres des clusters,\n",
    "# puis afficher ces centres avec les noms des caractéristiques originales.\n",
    "\n"
   ]
  }
 ],
 "metadata": {
  "kernelspec": {
   "display_name": "Python 3 (ipykernel)",
   "language": "python",
   "name": "python3"
  },
  "language_info": {
   "codemirror_mode": {
    "name": "ipython",
    "version": 3
   },
   "file_extension": ".py",
   "mimetype": "text/x-python",
   "name": "python",
   "nbconvert_exporter": "python",
   "pygments_lexer": "ipython3",
   "version": "3.11.5"
  }
 },
 "nbformat": 4,
 "nbformat_minor": 5
}
